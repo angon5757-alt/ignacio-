{
  "nbformat": 4,
  "nbformat_minor": 0,
  "metadata": {
    "colab": {
      "provenance": []
    },
    "kernelspec": {
      "name": "python3",
      "display_name": "Python 3"
    },
    "language_info": {
      "name": "python"
    }
  },
  "cells": [
    {
      "cell_type": "code",
      "source": [
        "class alumno():\n",
        "  no = \"Ignacio Angon\"\n",
        "  ed = 18\n",
        "  p = 68\n",
        "  pro = 7\n",
        "\n",
        "  def inscripcion(self):\n",
        "    print(\"El alumno:\", self.no, \"de\", self.ed, \"con promedio de\", self.pro)\n",
        "    print(\"Esta inscrito\")\n",
        "\n",
        "  def asesorias(self):\n",
        "    print(\"El alumno:\", self.no, \"de\", self.ed, \"con promedio de\", self.pro)\n",
        "    print(\"Esta en asesorias\")\n",
        "\n",
        "ins = alumno()\n",
        "ins.inscripcion()\n",
        "ins.asesorias()"
      ],
      "metadata": {
        "id": "ZYS-3r_83L2z"
      },
      "execution_count": null,
      "outputs": []
    },
    {
      "cell_type": "code",
      "source": [],
      "metadata": {
        "id": "7J5PC-qQ3_eb"
      },
      "execution_count": null,
      "outputs": []
    }
  ]
}