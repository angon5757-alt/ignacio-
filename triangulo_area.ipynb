{
  "nbformat": 4,
  "nbformat_minor": 0,
  "metadata": {
    "colab": {
      "provenance": []
    },
    "kernelspec": {
      "name": "python3",
      "display_name": "Python 3"
    },
    "language_info": {
      "name": "python"
    }
  },
  "cells": [
    {
      "cell_type": "code",
      "execution_count": 2,
      "metadata": {
        "colab": {
          "base_uri": "https://localhost:8080/"
        },
        "id": "yaUvWL2iGKKP",
        "outputId": "d90fef96-3674-4b85-84ed-69b2976df99f"
      },
      "outputs": [
        {
          "output_type": "stream",
          "name": "stdout",
          "text": [
            "introduce la base del triangulo: 10\n",
            "introduce la altura del triangulo: 10\n",
            "El área del triángulo es: 50.0\n"
          ]
        }
      ],
      "source": [
        "class Triangulo:\n",
        "    def leer_datos(self):\n",
        "        self.base = float(input(\"introduce la base del triangulo: \"))\n",
        "        self.altura = float(input(\"introduce la altura del triangulo: \"))\n",
        "\n",
        "    def calcular_area(self):\n",
        "        self.area = (self.base * self.altura) / 2\n",
        "\n",
        "    def imprimir_resultado(self):\n",
        "        print(f\"El área del triángulo es: {self.area}\")\n",
        "\n",
        "triangulo = Triangulo()\n",
        "triangulo.leer_datos()\n",
        "triangulo.calcular_area()\n",
        "triangulo.imprimir_resultado()"
      ]
    }
  ]
}