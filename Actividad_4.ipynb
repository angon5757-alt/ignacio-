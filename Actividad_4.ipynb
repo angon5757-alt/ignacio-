{
  "nbformat": 4,
  "nbformat_minor": 0,
  "metadata": {
    "colab": {
      "provenance": []
    },
    "kernelspec": {
      "name": "python3",
      "display_name": "Python 3"
    },
    "language_info": {
      "name": "python"
    }
  },
  "cells": [
    {
      "cell_type": "code",
      "source": [
        "class calificaciones():\n",
        "\n",
        "  def nom (self):\n",
        "    self.nombre = [\"Ignacio\", \"Hugo\", \"Cristian\", \"Brandon\", \"Jesus\", \"Valeria\", \"Carlos\", \"Manuel\", \"Maria\", \"Eligardp\"]\n",
        "    self.calificacion = [10, 9, 9, 9.5, 9.3, 9.8, 9.8, 10, 5, 6]\n",
        "\n",
        "  def promedio (self):\n",
        "    return (sum(self.calificacion)/len(self.calificacion))\n",
        "\n",
        "  def resultados (self):\n",
        "    self.nom()\n",
        "    promedio = self.promedio()\n",
        "    print (\"El promedio de calificaciones es: \", promedio)\n",
        "    print (\"Alumnos que sacaron arriba de 9.5:\")\n",
        "    for i in range(len(self.calificacion)):\n",
        "      if self.calificacion[i] > 9.5:\n",
        "        print(self.nombre[i])\n",
        "\n",
        "\n",
        "clase = calificaciones()\n",
        "clase.resultados()\n",
        "\n"
      ],
      "metadata": {
        "id": "e1-EC-bf5W4S"
      },
      "execution_count": null,
      "outputs": []
    },
    {
      "cell_type": "code",
      "source": [],
      "metadata": {
        "id": "IpwSnvdF8GhC"
      },
      "execution_count": null,
      "outputs": []
    }
  ]
}